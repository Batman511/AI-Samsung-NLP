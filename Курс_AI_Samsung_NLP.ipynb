{
  "cells": [
    {
      "cell_type": "markdown",
      "metadata": {
        "id": "view-in-github",
        "colab_type": "text"
      },
      "source": [
        "<a href=\"https://colab.research.google.com/github/Batman511/AI-Samsung-NLP/blob/main/%D0%9A%D1%83%D1%80%D1%81_AI_Samsung_NLP.ipynb\" target=\"_parent\"><img src=\"https://colab.research.google.com/assets/colab-badge.svg\" alt=\"Open In Colab\"/></a>"
      ]
    },
    {
      "cell_type": "markdown",
      "source": [
        "# Выполнение заданий курса"
      ],
      "metadata": {
        "id": "XUC-cM6Hm4D_"
      }
    },
    {
      "cell_type": "markdown",
      "source": [
        "Разбиение предложения на токены с помощью регулярных выражений\n",
        "\n",
        "https://habr.com/ru/post/349860/"
      ],
      "metadata": {
        "id": "sfs1Z3KqPQFs"
      }
    },
    {
      "cell_type": "code",
      "source": [
        "import re\n",
        "# r'\\w' - делит на буквы\n",
        "# r'\\w+' - делит на слова без знаков препинания\n",
        "# r'\\S+' - тоже на слова со знаками\n",
        "# r' ' - все пробелы\n",
        "# r'\\w+|\\S' - делит на слова и знаки препинания, почту тоже делит\n",
        "# r'((?:\\w+@\\w+\\.\\w+)|\\w+|\\S)' - делит на слова и знаки препинания, но почту оставляет\n",
        "\n",
        "\n",
        "txt = \"Пожалуйста, отправляйте свои заявки на адрес электронной почты inbox@example.com или по телефону 123456.\"\n",
        "tokenize_regex = re.compile(r'((?:\\w+@\\w+\\.\\w+)|\\w+|\\S)', re.I)\n",
        "tokens = tokenize_regex.findall(txt)\n",
        "\n",
        "print(tokens)"
      ],
      "metadata": {
        "id": "q01rjJ0_PPxk",
        "colab": {
          "base_uri": "https://localhost:8080/"
        },
        "outputId": "53cef953-f2fb-40eb-aeff-244ca859b2bd"
      },
      "execution_count": null,
      "outputs": [
        {
          "output_type": "stream",
          "name": "stdout",
          "text": [
            "['Пожалуйста', ',', 'отправляйте', 'свои', 'заявки', 'на', 'адрес', 'электронной', 'почты', 'inbox@example.com', 'или', 'по', 'телефону', '123456', '.']\n"
          ]
        }
      ]
    },
    {
      "cell_type": "markdown",
      "source": [
        "Словарь и частоты"
      ],
      "metadata": {
        "id": "qMoQfpYqVaLY"
      }
    },
    {
      "cell_type": "code",
      "source": [
        "text = \"казнить нельзя, помиловать. нельзя наказывать. казнить, нельзя помиловать. нельзя освободить. нельзя не помиловать. обязательно освободить.\"\n",
        "\n",
        "#словарь для слов \n",
        "words = {} \n",
        "\n",
        "\n",
        "# Разбить текст на слова \n",
        "for word in text.split(): \n",
        "    words[word] = words.get(word, 0) + 1 \n",
        "\n",
        "print(words) \n",
        "weights = [] \n",
        "\n",
        "\n",
        "\n",
        "for word in words.keys(): \n",
        "    weights.append(words[word])\n",
        "\n",
        "list2 = weights\n",
        "list1 = words\n",
        "zipped_lists = zip(list1, list2)\n",
        "\n",
        "sorted_list1 = sorted(zipped_lists)\n",
        "weights_2 = [list2/4 for list1, list2 in sorted_list1]\n",
        "\n",
        "print(sorted_list1) "
      ],
      "metadata": {
        "colab": {
          "base_uri": "https://localhost:8080/"
        },
        "id": "gjyRVs6VU1yJ",
        "outputId": "d7d0823b-1bb0-4ae5-bb30-a6c8a3ca6706"
      },
      "execution_count": null,
      "outputs": [
        {
          "output_type": "stream",
          "name": "stdout",
          "text": [
            "{'казнить': 1, 'нельзя,': 1, 'помиловать.': 3, 'нельзя': 4, 'наказывать.': 1, 'казнить,': 1, 'освободить.': 2, 'не': 1, 'обязательно': 1}\n",
            "[('казнить', 1), ('казнить,', 1), ('наказывать.', 1), ('не', 1), ('нельзя', 4), ('нельзя,', 1), ('обязательно', 1), ('освободить.', 2), ('помиловать.', 3)]\n"
          ]
        }
      ]
    },
    {
      "cell_type": "markdown",
      "source": [
        "Сортировка связных списков"
      ],
      "metadata": {
        "id": "IIEp2ZQtT5cT"
      }
    },
    {
      "cell_type": "code",
      "source": [
        "list1 = ['banana', 'apple', 'orange']\n",
        "list2 = ['dog', 'cat', 'fish']\n",
        "\n",
        "zipped_lists = zip(list1, list2)\n",
        "sorted_list1 = sorted(zipped_lists)\n",
        "list2_new = [list2 for list1, list2 in sorted_list1]\n",
        "\n",
        "print(\"Sorted list1:\", sorted_list1)\n",
        "print(\"New list2:\", list2_new)"
      ],
      "metadata": {
        "colab": {
          "base_uri": "https://localhost:8080/"
        },
        "id": "f8JIDaylWi3U",
        "outputId": "31996867-75b7-4285-c019-d1172f3aab17"
      },
      "execution_count": null,
      "outputs": [
        {
          "output_type": "stream",
          "name": "stdout",
          "text": [
            "Sorted list1: [('apple', 'cat'), ('banana', 'dog'), ('orange', 'fish')]\n",
            "New list2: ['cat', 'dog', 'fish']\n"
          ]
        }
      ]
    },
    {
      "cell_type": "markdown",
      "metadata": {
        "id": "dQSt8lg9oKmc"
      },
      "source": [
        "# Тематическая классификация новостных текстов с PyTorch - TFIDF и LogReg"
      ]
    },
    {
      "cell_type": "markdown",
      "source": [
        "Имеем 20 тематик и сообщения с почты"
      ],
      "metadata": {
        "id": "S6WwpldGRVdr"
      }
    },
    {
      "cell_type": "code",
      "execution_count": null,
      "metadata": {
        "id": "gJRGwL1XoKmh"
      },
      "outputs": [],
      "source": [
        "# библиотека с примитивами для прохождения курса\n",
        "!git clone https://github.com/Samsung-IT-Academy/stepik-dl-nlp.git && pip install -r stepik-dl-nlp/requirements.txt\n",
        "import sys; sys.path.append('./stepik-dl-nlp')"
      ]
    },
    {
      "cell_type": "code",
      "source": [
        "import dlnlputils\n",
        "print(dlnlputils.__file__)"
      ],
      "metadata": {
        "id": "V-sPDsIzyl48"
      },
      "execution_count": null,
      "outputs": []
    },
    {
      "cell_type": "code",
      "execution_count": null,
      "metadata": {
        "ExecuteTime": {
          "end_time": "2019-09-12T12:42:57.265628Z",
          "start_time": "2019-09-12T12:42:55.188211Z"
        },
        "id": "gHt2ae7coKmj"
      },
      "outputs": [],
      "source": [
        "import warnings\n",
        "warnings.filterwarnings('ignore')\n",
        "\n",
        "from sklearn.datasets import fetch_20newsgroups\n",
        "from sklearn.metrics import accuracy_score\n",
        "\n",
        "import numpy as np\n",
        "\n",
        "import matplotlib.pyplot as plt\n",
        "%matplotlib inline\n",
        "\n",
        "import collections\n",
        "\n",
        "import torch\n",
        "from torch import nn\n",
        "from torch.nn import functional as F\n",
        "\n",
        "# библиотеки курса\n",
        "import dlnlputils\n",
        "from dlnlputils.data import tokenize_text_simple_regex, tokenize_corpus, build_vocabulary, \\\n",
        "    vectorize_texts, SparseFeaturesDataset\n",
        "from dlnlputils.pipeline import train_eval_loop, predict_with_model, init_random_seed\n",
        "\n",
        "init_random_seed()"
      ]
    },
    {
      "cell_type": "markdown",
      "metadata": {
        "id": "Y4dnSQwtoKmk"
      },
      "source": [
        "## Предобработка текстов и подготовка признаков"
      ]
    },
    {
      "cell_type": "code",
      "execution_count": null,
      "metadata": {
        "ExecuteTime": {
          "end_time": "2019-09-12T12:42:57.847399Z",
          "start_time": "2019-09-12T12:42:57.268037Z"
        },
        "id": "85YUrDB9oKml",
        "colab": {
          "base_uri": "https://localhost:8080/"
        },
        "outputId": "900a0bc2-a5e7-4167-ca44-fbb8b06962a0"
      },
      "outputs": [
        {
          "output_type": "stream",
          "name": "stdout",
          "text": [
            "Количество обучающих текстов 11314\n",
            "Количество тестовых текстов 7532\n",
            "\n",
            "From: lerxst@wam.umd.edu (where's my thing)\n",
            "Subject: WHAT car is this!?\n",
            "Nntp-Posting-Host: rac3.wam.umd.edu\n",
            "Organization: University of Maryland, College Park\n",
            "Lines: 15\n",
            "\n",
            " I was wondering if anyone out there could enlighten me on this car I saw\n",
            "the other day. It was a 2-door sports car, looked to be from the late 60s/\n",
            "early 70s. It was called a Bricklin. The doors were really small. In addition,\n",
            "the front bumper was separate from the rest of the body. This is \n",
            "all I know. If anyone can tellme a model name, engine specs, years\n",
            "of production, where this car is made, history, or whatever info you\n",
            "have on this funky looking car, please e-mail.\n",
            "\n",
            "Thanks,\n",
            "- IL\n",
            "   ---- brought to you by your neighborhood Lerxst ----\n",
            "\n",
            "Класс 7\n"
          ]
        }
      ],
      "source": [
        "train_source = fetch_20newsgroups(subset='train')\n",
        "test_source = fetch_20newsgroups(subset='test')\n",
        "\n",
        "print('Количество обучающих текстов', len(train_source['data']))\n",
        "print('Количество тестовых текстов', len(test_source['data']))\n",
        "print()\n",
        "print(train_source['data'][0].strip())\n",
        "\n",
        "print()\n",
        "print('Класс', train_source['target'][0])"
      ]
    },
    {
      "cell_type": "markdown",
      "metadata": {
        "id": "EACEoC0woKml"
      },
      "source": [
        "### Подготовка признаков"
      ]
    },
    {
      "cell_type": "markdown",
      "source": [
        "Токенизация - обязательный пункт"
      ],
      "metadata": {
        "id": "xnE6NEMeSl1o"
      }
    },
    {
      "cell_type": "code",
      "execution_count": null,
      "metadata": {
        "ExecuteTime": {
          "end_time": "2019-09-12T12:43:00.294422Z",
          "start_time": "2019-09-12T12:42:57.849386Z"
        },
        "id": "E1S2ihukoKmm",
        "colab": {
          "base_uri": "https://localhost:8080/"
        },
        "outputId": "7647584f-36b5-492b-888e-5503b491e5f9"
      },
      "outputs": [
        {
          "output_type": "stream",
          "name": "stdout",
          "text": [
            "from lerxst where thing subject what this nntp posting host rac3 organization university maryland college park lines wondering anyone there could enlighten this other door sports looked from late early called bricklin doors were really small addition front bumper separate from rest body this know anyone tellme model name engine specs years production where this made history whatever info have this funky looking please mail thanks brought your neighborhood lerxst\n"
          ]
        }
      ],
      "source": [
        "train_tokenized = tokenize_corpus(train_source['data'])\n",
        "test_tokenized = tokenize_corpus(test_source['data'])\n",
        "\n",
        "print(' '.join(train_tokenized[0]))\n",
        "# остаются только последовательности букв и цифр"
      ]
    },
    {
      "cell_type": "markdown",
      "source": [
        "Подготовка словаря"
      ],
      "metadata": {
        "id": "XT2Lupa9WLV-"
      }
    },
    {
      "cell_type": "code",
      "execution_count": null,
      "metadata": {
        "ExecuteTime": {
          "end_time": "2019-09-12T12:43:00.825372Z",
          "start_time": "2019-09-12T12:43:00.297392Z"
        },
        "id": "n8vvzz7roKmm",
        "colab": {
          "base_uri": "https://localhost:8080/"
        },
        "outputId": "e0b3e219-9e58-41b4-ab6e-842e9d2f10cf"
      },
      "outputs": [
        {
          "output_type": "stream",
          "name": "stdout",
          "text": [
            "Количество уникальных токенов 21628\n",
            "10 самый популярных [('that', 0), ('this', 1), ('have', 2), ('with', 3), ('writes', 4), ('article', 5), ('posting', 6), ('host', 7), ('nntp', 8), ('there', 9)]\n"
          ]
        }
      ],
      "source": [
        "# слишком частые токены (80% текстов) не нужны \n",
        "MAX_DF = 0.8\n",
        "# токены встречающиеся меньше 5 раз не нужны\n",
        "MIN_COUNT = 5\n",
        "# строим словарь с помощью доп библиотеки\n",
        "vocabulary, word_doc_freq = build_vocabulary(train_tokenized, max_doc_freq=MAX_DF, min_count=MIN_COUNT)\n",
        "UNIQUE_WORDS_N = len(vocabulary)\n",
        "print('Количество уникальных токенов', UNIQUE_WORDS_N)\n",
        "print('10 самый популярных',list(vocabulary.items())[:10])"
      ]
    },
    {
      "cell_type": "markdown",
      "source": [
        "проверяем закон Ципфа"
      ],
      "metadata": {
        "id": "m-ecPDgLXaSa"
      }
    },
    {
      "cell_type": "code",
      "execution_count": null,
      "metadata": {
        "ExecuteTime": {
          "end_time": "2019-09-12T12:43:01.524600Z",
          "start_time": "2019-09-12T12:43:00.829107Z"
        },
        "id": "-ieBxweKoKmn",
        "colab": {
          "base_uri": "https://localhost:8080/",
          "height": 281
        },
        "outputId": "5ad88220-85ce-479d-a1b8-3d874e964731"
      },
      "outputs": [
        {
          "output_type": "display_data",
          "data": {
            "text/plain": [
              "<Figure size 432x288 with 1 Axes>"
            ],
            "image/png": "[encoded data removed]"
          },
          "metadata": {
            "needs_background": "light"
          }
        }
      ],
      "source": [
        "plt.hist(word_doc_freq, bins=20)\n",
        "plt.title('Распределение относительных частот слов')\n",
        "plt.yscale('log');"
      ]
    },
    {
      "cell_type": "markdown",
      "source": [
        "Строим матрицу признаков по методу мешка слов"
      ],
      "metadata": {
        "id": "oGIVj-kvYsbM"
      }
    },
    {
      "cell_type": "code",
      "execution_count": null,
      "metadata": {
        "ExecuteTime": {
          "end_time": "2019-09-12T12:44:16.094816Z",
          "start_time": "2019-09-12T12:43:01.526554Z"
        },
        "id": "775eq63QoKmn",
        "colab": {
          "base_uri": "https://localhost:8080/"
        },
        "outputId": "1caac144-e48d-44f0-9602-a341684e7396"
      },
      "outputs": [
        {
          "output_type": "stream",
          "name": "stdout",
          "text": [
            "Размерность матрицы признаков обучающей выборки (11314, 21628)\n",
            "Размерность матрицы признаков тестовой выборки (7532, 21628)\n",
            "\n",
            "Количество ненулевых элементов в обучающей выборке 1126792\n",
            "Процент заполненности матрицы признаков 0.46%\n",
            "\n",
            "Количество ненулевых элементов в тестовой выборке 721529\n",
            "Процент заполненности матрицы признаков 0.44%\n"
          ]
        }
      ],
      "source": [
        "VECTORIZATION_MODE = 'tfidf'\n",
        "train_vectors = vectorize_texts(train_tokenized, vocabulary, word_doc_freq, mode=VECTORIZATION_MODE)\n",
        "test_vectors = vectorize_texts(test_tokenized, vocabulary, word_doc_freq, mode=VECTORIZATION_MODE)\n",
        "\n",
        "print('Размерность матрицы признаков обучающей выборки', train_vectors.shape)\n",
        "print('Размерность матрицы признаков тестовой выборки', test_vectors.shape)\n",
        "print()\n",
        "print('Количество ненулевых элементов в обучающей выборке', train_vectors.nnz)\n",
        "print('Процент заполненности матрицы признаков {:.2f}%'.format(train_vectors.nnz * 100 / (train_vectors.shape[0] * train_vectors.shape[1])))\n",
        "print()\n",
        "print('Количество ненулевых элементов в тестовой выборке', test_vectors.nnz)\n",
        "print('Процент заполненности матрицы признаков {:.2f}%'.format(test_vectors.nnz * 100 / (test_vectors.shape[0] * test_vectors.shape[1])))\n",
        "# строки это примеры, а столбцы - токены"
      ]
    },
    {
      "cell_type": "code",
      "execution_count": null,
      "metadata": {
        "ExecuteTime": {
          "end_time": "2019-09-12T12:44:16.857114Z",
          "start_time": "2019-09-12T12:44:16.098773Z"
        },
        "id": "6catGQaEoKmo",
        "colab": {
          "base_uri": "https://localhost:8080/",
          "height": 281
        },
        "outputId": "2ece3b89-6561-4087-f0f9-796880ee6d5a"
      },
      "outputs": [
        {
          "output_type": "display_data",
          "data": {
            "text/plain": [
              "<Figure size 432x288 with 1 Axes>"
            ],
            "image/png": "[encoded data removed]"
          },
          "metadata": {
            "needs_background": "light"
          }
        }
      ],
      "source": [
        "plt.hist(train_vectors.data, bins=20)\n",
        "plt.title('Распределение весов признаков')\n",
        "plt.yscale('log');"
      ]
    },
    {
      "cell_type": "markdown",
      "metadata": {
        "id": "Vp_ymE18oKmp"
      },
      "source": [
        "### Распределение классов"
      ]
    },
    {
      "cell_type": "code",
      "execution_count": null,
      "metadata": {
        "ExecuteTime": {
          "end_time": "2019-09-12T12:44:16.864960Z",
          "start_time": "2019-09-12T12:44:16.859476Z"
        },
        "id": "Oyuxmdj1oKmp",
        "colab": {
          "base_uri": "https://localhost:8080/"
        },
        "outputId": "f562757a-b767-48c8-a7e9-f967502ac565"
      },
      "outputs": [
        {
          "output_type": "stream",
          "name": "stdout",
          "text": [
            "Количество уникальных меток 20\n"
          ]
        }
      ],
      "source": [
        "UNIQUE_LABELS_N = len(set(train_source['target']))\n",
        "print('Количество уникальных меток', UNIQUE_LABELS_N)"
      ]
    },
    {
      "cell_type": "code",
      "execution_count": null,
      "metadata": {
        "ExecuteTime": {
          "end_time": "2019-09-12T12:44:17.106036Z",
          "start_time": "2019-09-12T12:44:16.867310Z"
        },
        "id": "MEiwo7_NoKmp",
        "colab": {
          "base_uri": "https://localhost:8080/",
          "height": 281
        },
        "outputId": "c1d1c1a1-e08e-4bb7-c8f7-f8ad49363f7a"
      },
      "outputs": [
        {
          "output_type": "display_data",
          "data": {
            "text/plain": [
              "<Figure size 432x288 with 1 Axes>"
            ],
            "image/png": "[encoded data removed]"
          },
          "metadata": {
            "needs_background": "light"
          }
        }
      ],
      "source": [
        "plt.hist(train_source['target'], bins=np.arange(0, 21))\n",
        "plt.title('Распределение меток в обучающей выборке');"
      ]
    },
    {
      "cell_type": "markdown",
      "source": [
        "Видно, что распределены равномерно"
      ],
      "metadata": {
        "id": "tskw7flFfrs4"
      }
    },
    {
      "cell_type": "code",
      "execution_count": null,
      "metadata": {
        "ExecuteTime": {
          "end_time": "2019-09-12T12:44:17.312198Z",
          "start_time": "2019-09-12T12:44:17.109884Z"
        },
        "scrolled": true,
        "id": "GjU9qSfboKmq",
        "colab": {
          "base_uri": "https://localhost:8080/",
          "height": 281
        },
        "outputId": "ec1618a9-5f25-420d-9c18-7cd5bf86a692"
      },
      "outputs": [
        {
          "output_type": "display_data",
          "data": {
            "text/plain": [
              "<Figure size 432x288 with 1 Axes>"
            ],
            "image/png": "[encoded data removed]"
          },
          "metadata": {
            "needs_background": "light"
          }
        }
      ],
      "source": [
        "plt.hist(test_source['target'], bins=np.arange(0, 21))\n",
        "plt.title('Распределение меток в тестовой выборке');"
      ]
    },
    {
      "cell_type": "markdown",
      "metadata": {
        "id": "jXfiz--1oKmq"
      },
      "source": [
        "### PyTorch Dataset"
      ]
    },
    {
      "cell_type": "markdown",
      "source": [
        "Обернем данные в датасет для удобства"
      ],
      "metadata": {
        "id": "330buG_igVLo"
      }
    },
    {
      "cell_type": "code",
      "execution_count": null,
      "metadata": {
        "ExecuteTime": {
          "end_time": "2019-09-12T12:44:17.319292Z",
          "start_time": "2019-09-12T12:44:17.315074Z"
        },
        "id": "sQw7j9TnoKmq"
      },
      "outputs": [],
      "source": [
        "train_dataset = SparseFeaturesDataset(train_vectors, train_source['target'])\n",
        "test_dataset = SparseFeaturesDataset(test_vectors, test_source['target'])"
      ]
    },
    {
      "cell_type": "markdown",
      "metadata": {
        "id": "flQ-NqopoKmr"
      },
      "source": [
        "## Обучение модели на PyTorch"
      ]
    },
    {
      "cell_type": "code",
      "execution_count": null,
      "metadata": {
        "ExecuteTime": {
          "end_time": "2019-09-12T12:46:22.371272Z",
          "start_time": "2019-09-12T12:44:17.322178Z"
        },
        "scrolled": false,
        "id": "m0sOOr3ooKmr",
        "colab": {
          "base_uri": "https://localhost:8080/"
        },
        "outputId": "e9dcdfee-e252-462e-8804-b1e5cb4f0035"
      },
      "outputs": [
        {
          "output_type": "stream",
          "name": "stdout",
          "text": [
            "Эпоха 0\n",
            "Эпоха: 354 итераций, 4.25 сек\n",
            "Среднее значение функции потерь на обучении 2.2252535607855197\n",
            "Среднее значение функции потерь на валидации 2.113704176272376\n",
            "Новая лучшая модель!\n",
            "\n",
            "Эпоха 1\n",
            "Эпоха: 354 итераций, 4.02 сек\n",
            "Среднее значение функции потерь на обучении 0.9165900048226286\n",
            "Среднее значение функции потерь на валидации 1.6821974248199139\n",
            "Новая лучшая модель!\n",
            "\n",
            "Эпоха 2\n",
            "Эпоха: 354 итераций, 3.42 сек\n",
            "Среднее значение функции потерь на обучении 0.46601731696371307\n",
            "Среднее значение функции потерь на валидации 1.4643919902332758\n",
            "Новая лучшая модель!\n",
            "\n",
            "Эпоха 3\n",
            "Эпоха: 354 итераций, 3.55 сек\n",
            "Среднее значение функции потерь на обучении 0.28363620860260086\n",
            "Среднее значение функции потерь на валидации 1.3450396257942006\n",
            "Новая лучшая модель!\n",
            "\n",
            "Эпоха 4\n",
            "Эпоха: 354 итераций, 3.43 сек\n",
            "Среднее значение функции потерь на обучении 0.19072445673541835\n",
            "Среднее значение функции потерь на валидации 1.2602427210343086\n",
            "Новая лучшая модель!\n",
            "\n",
            "Эпоха 5\n",
            "Эпоха: 354 итераций, 3.38 сек\n",
            "Среднее значение функции потерь на обучении 0.1364347039706121\n",
            "Среднее значение функции потерь на валидации 1.2005368380223291\n",
            "Новая лучшая модель!\n",
            "\n",
            "Эпоха 6\n",
            "Эпоха: 354 итераций, 4.41 сек\n",
            "Среднее значение функции потерь на обучении 0.10175157688810664\n",
            "Среднее значение функции потерь на валидации 1.1543837313429783\n",
            "Новая лучшая модель!\n",
            "\n",
            "Эпоха 7\n",
            "Эпоха: 354 итераций, 3.36 сек\n",
            "Среднее значение функции потерь на обучении 0.07793639742343103\n",
            "Среднее значение функции потерь на валидации 1.1209718072313373\n",
            "Новая лучшая модель!\n",
            "\n",
            "Эпоха 8\n",
            "Эпоха: 354 итераций, 3.98 сек\n",
            "Среднее значение функции потерь на обучении 0.06176974712265919\n",
            "Среднее значение функции потерь на валидации 1.0886683186232033\n",
            "Новая лучшая модель!\n",
            "\n",
            "Эпоха 9\n",
            "Эпоха: 354 итераций, 3.90 сек\n",
            "Среднее значение функции потерь на обучении 0.049217702815635395\n",
            "Среднее значение функции потерь на валидации 1.0575785293417461\n",
            "Новая лучшая модель!\n",
            "\n",
            "Эпоха 10\n",
            "Эпоха: 354 итераций, 3.59 сек\n",
            "Среднее значение функции потерь на обучении 0.04008674899663376\n",
            "Среднее значение функции потерь на валидации 1.0522268790814837\n",
            "Новая лучшая модель!\n",
            "\n",
            "Эпоха 11\n",
            "Эпоха: 354 итераций, 3.34 сек\n",
            "Среднее значение функции потерь на обучении 0.03305447870591855\n",
            "Среднее значение функции потерь на валидации 1.0252125510724925\n",
            "Новая лучшая модель!\n",
            "\n",
            "Эпоха 12\n",
            "Эпоха: 354 итераций, 3.40 сек\n",
            "Среднее значение функции потерь на обучении 0.02742206629123644\n",
            "Среднее значение функции потерь на валидации 1.0233976227247108\n",
            "Новая лучшая модель!\n",
            "\n",
            "Эпоха 13\n",
            "Эпоха: 354 итераций, 4.00 сек\n",
            "Среднее значение функции потерь на обучении 0.023065788634542356\n",
            "Среднее значение функции потерь на валидации 1.0005421378349855\n",
            "Новая лучшая модель!\n",
            "\n",
            "Эпоха 14\n",
            "Эпоха: 354 итераций, 3.39 сек\n",
            "Среднее значение функции потерь на обучении 0.019530112974840284\n",
            "Среднее значение функции потерь на валидации 0.9915607740818444\n",
            "Новая лучшая модель!\n",
            "\n",
            "Эпоха 15\n",
            "Эпоха: 354 итераций, 3.99 сек\n",
            "Среднее значение функции потерь на обучении 0.01649773900797012\n",
            "Среднее значение функции потерь на валидации 0.9758768022312956\n",
            "Новая лучшая модель!\n",
            "\n",
            "Эпоха 16\n",
            "Эпоха: 354 итераций, 3.40 сек\n",
            "Среднее значение функции потерь на обучении 0.01395972078339865\n",
            "Среднее значение функции потерь на валидации 0.9762124001222142\n",
            "\n",
            "Эпоха 17\n",
            "Эпоха: 354 итераций, 3.46 сек\n",
            "Среднее значение функции потерь на обучении 0.012367755653452401\n",
            "Среднее значение функции потерь на валидации 0.9614294195326708\n",
            "Новая лучшая модель!\n",
            "\n",
            "Эпоха 18\n",
            "Эпоха: 354 итераций, 3.52 сек\n",
            "Среднее значение функции потерь на обучении 0.010551411565130123\n",
            "Среднее значение функции потерь на валидации 0.9536931507163129\n",
            "Новая лучшая модель!\n",
            "\n",
            "Эпоха 19\n",
            "Эпоха: 354 итераций, 3.41 сек\n",
            "Среднее значение функции потерь на обучении 0.009276744345266182\n",
            "Среднее значение функции потерь на валидации 0.9553867010241848\n",
            "\n",
            "Эпоха 20\n",
            "Эпоха: 354 итераций, 4.01 сек\n",
            "Среднее значение функции потерь на обучении 0.008060221469534909\n",
            "Среднее значение функции потерь на валидации 0.9670803467348471\n",
            "\n",
            "Эпоха 21\n",
            "Эпоха: 354 итераций, 3.42 сек\n",
            "Среднее значение функции потерь на обучении 0.007328635450626202\n",
            "Среднее значение функции потерь на валидации 0.940358952824342\n",
            "Новая лучшая модель!\n",
            "\n",
            "Эпоха 22\n",
            "Эпоха: 354 итераций, 3.74 сек\n",
            "Среднее значение функции потерь на обучении 0.006772733731182176\n",
            "Среднее значение функции потерь на валидации 0.9329069789688466\n",
            "Новая лучшая модель!\n",
            "\n",
            "Эпоха 23\n",
            "Эпоха: 354 итераций, 3.40 сек\n",
            "Среднее значение функции потерь на обучении 0.005589810760078773\n",
            "Среднее значение функции потерь на валидации 0.9329812145334179\n",
            "\n",
            "Эпоха 24\n",
            "Эпоха: 354 итераций, 3.39 сек\n",
            "Среднее значение функции потерь на обучении 0.005256609882341203\n",
            "Среднее значение функции потерь на валидации 0.9690104912398225\n",
            "\n",
            "Эпоха 25\n",
            "Эпоха: 354 итераций, 3.78 сек\n",
            "Среднее значение функции потерь на обучении 0.004769206254566772\n",
            "Среднее значение функции потерь на валидации 0.9437592005578138\n",
            "\n",
            "Эпоха 26\n",
            "Эпоха: 354 итераций, 3.43 сек\n",
            "Среднее значение функции потерь на обучении 0.0044087135219173035\n",
            "Среднее значение функции потерь на валидации 0.9343385584021019\n",
            "\n",
            "Эпоха 27\n",
            "Эпоха: 354 итераций, 4.03 сек\n",
            "Среднее значение функции потерь на обучении 0.004121560580360224\n",
            "Среднее значение функции потерь на валидации 0.9609652502556979\n",
            "\n",
            "Эпоха 28\n",
            "Эпоха: 354 итераций, 3.42 сек\n",
            "Среднее значение функции потерь на обучении 0.004164906063838599\n",
            "Среднее значение функции потерь на валидации 0.9498730159159434\n",
            "Epoch 00029: reducing learning rate of group 0 to 5.0000e-02.\n",
            "\n",
            "Эпоха 29\n",
            "Эпоха: 354 итераций, 3.51 сек\n",
            "Среднее значение функции потерь на обучении 0.0032320484479706427\n",
            "Среднее значение функции потерь на валидации 0.9344267021801512\n",
            "\n",
            "Эпоха 30\n",
            "Эпоха: 354 итераций, 3.37 сек\n",
            "Среднее значение функции потерь на обучении 0.002957669297058272\n",
            "Среднее значение функции потерь на валидации 0.9425010745555668\n",
            "\n",
            "Эпоха 31\n",
            "Эпоха: 354 итераций, 3.39 сек\n",
            "Среднее значение функции потерь на обучении 0.0028751817276855235\n",
            "Среднее значение функции потерь на валидации 0.9348605030168922\n",
            "\n",
            "Эпоха 32\n",
            "Эпоха: 354 итераций, 3.98 сек\n",
            "Среднее значение функции потерь на обучении 0.002601807358237983\n",
            "Среднее значение функции потерь на валидации 0.930629845519187\n",
            "Новая лучшая модель!\n",
            "\n",
            "Эпоха 33\n",
            "Эпоха: 354 итераций, 3.37 сек\n",
            "Среднее значение функции потерь на обучении 0.0027132498123091093\n",
            "Среднее значение функции потерь на валидации 0.944725098625078\n",
            "\n",
            "Эпоха 34\n",
            "Эпоха: 354 итераций, 4.00 сек\n",
            "Среднее значение функции потерь на обучении 0.0025347568336275728\n",
            "Среднее значение функции потерь на валидации 0.9425573509375927\n",
            "\n",
            "Эпоха 35\n",
            "Эпоха: 354 итераций, 3.44 сек\n",
            "Среднее значение функции потерь на обучении 0.002610650390679593\n",
            "Среднее значение функции потерь на валидации 0.9399345868219764\n",
            "\n",
            "Эпоха 36\n",
            "Эпоха: 354 итераций, 3.50 сек\n",
            "Среднее значение функции потерь на обучении 0.0024109293261854016\n",
            "Среднее значение функции потерь на валидации 0.9386612001364514\n",
            "\n",
            "Эпоха 37\n",
            "Эпоха: 354 итераций, 3.42 сек\n",
            "Среднее значение функции потерь на обучении 0.002353824565121654\n",
            "Среднее значение функции потерь на валидации 0.9419008027446472\n",
            "\n",
            "Эпоха 38\n",
            "Эпоха: 354 итераций, 3.45 сек\n",
            "Среднее значение функции потерь на обучении 0.002311124079377327\n",
            "Среднее значение функции потерь на валидации 0.9422705674828109\n",
            "Epoch 00039: reducing learning rate of group 0 to 2.5000e-02.\n",
            "\n",
            "Эпоха 39\n",
            "Эпоха: 354 итераций, 4.03 сек\n",
            "Среднее значение функции потерь на обучении 0.0019421871207864288\n",
            "Среднее значение функции потерь на валидации 0.9435693018012128\n",
            "\n",
            "Эпоха 40\n",
            "Эпоха: 354 итераций, 3.38 сек\n",
            "Среднее значение функции потерь на обучении 0.0018815687760719924\n",
            "Среднее значение функции потерь на валидации 0.9396208580267631\n",
            "\n",
            "Эпоха 41\n",
            "Эпоха: 354 итераций, 4.03 сек\n",
            "Среднее значение функции потерь на обучении 0.0018609641228771589\n",
            "Среднее значение функции потерь на валидации 0.9446345145924616\n",
            "\n",
            "Эпоха 42\n",
            "Эпоха: 354 итераций, 4.02 сек\n",
            "Среднее значение функции потерь на обучении 0.00182226497323468\n",
            "Среднее значение функции потерь на валидации 0.9422186441340689\n",
            "\n",
            "Эпоха 43\n",
            "Эпоха: 354 итераций, 5.76 сек\n",
            "Среднее значение функции потерь на обучении 0.0017887823835576327\n",
            "Среднее значение функции потерь на валидации 0.9431629689820742\n",
            "Модель не улучшилась за последние 10 эпох, прекращаем обучение\n"
          ]
        }
      ],
      "source": [
        "# входы - токены, выходы - классы\n",
        "model = nn.Linear(UNIQUE_WORDS_N, UNIQUE_LABELS_N)  # с помощью сигмоиды в конце сделаем ее логистической регрессией\n",
        "\n",
        "# меняем градиентный шаг если 5 эпох loss на валид выборке не меняется\n",
        "scheduler = lambda optim: torch.optim.lr_scheduler.ReduceLROnPlateau(optim, patience=5, factor=0.5, verbose=True)\n",
        "\n",
        "best_val_loss, best_model = train_eval_loop(model=model,\n",
        "                                            train_dataset=train_dataset,\n",
        "                                            val_dataset=test_dataset,\n",
        "                                            criterion=F.cross_entropy,\n",
        "                                            lr=1e-1,\n",
        "                                            epoch_n=200,\n",
        "                                            batch_size=32,\n",
        "                                            l2_reg_alpha=0,\n",
        "                                            lr_scheduler_ctor=scheduler)"
      ]
    },
    {
      "cell_type": "markdown",
      "metadata": {
        "id": "paBlGnljoKmr"
      },
      "source": [
        "## Оценка качества"
      ]
    },
    {
      "cell_type": "code",
      "execution_count": null,
      "metadata": {
        "ExecuteTime": {
          "end_time": "2019-09-12T12:46:25.105663Z",
          "start_time": "2019-09-12T12:46:22.373012Z"
        },
        "id": "IfsFRAgDoKms",
        "colab": {
          "base_uri": "https://localhost:8080/"
        },
        "outputId": "0115fc16-1019-4c2f-85ed-a3eee2a2ef8a"
      },
      "outputs": [
        {
          "output_type": "stream",
          "name": "stderr",
          "text": [
            "100%|██████████| 354/353.5625 [00:02<00:00, 135.48it/s]\n"
          ]
        },
        {
          "output_type": "stream",
          "name": "stdout",
          "text": [
            "Среднее значение функции потерь на обучении 0.002232220256701112\n",
            "Доля верных ответов 0.9994696835778681\n",
            "\n"
          ]
        },
        {
          "output_type": "stream",
          "name": "stderr",
          "text": [
            "236it [00:01, 156.67it/s]                             "
          ]
        },
        {
          "output_type": "stream",
          "name": "stdout",
          "text": [
            "Среднее значение функции потерь на валидации 0.9289422035217285\n",
            "Доля верных ответов 0.76805629314923\n"
          ]
        },
        {
          "output_type": "stream",
          "name": "stderr",
          "text": [
            "\n"
          ]
        }
      ],
      "source": [
        "train_pred = predict_with_model(best_model, train_dataset)\n",
        "\n",
        "train_loss = F.cross_entropy(torch.from_numpy(train_pred),\n",
        "                             torch.from_numpy(train_source['target']).long())\n",
        "\n",
        "print('Среднее значение функции потерь на обучении', float(train_loss))\n",
        "print('Доля верных ответов', accuracy_score(train_source['target'], train_pred.argmax(-1)))\n",
        "print()\n",
        "\n",
        "\n",
        "\n",
        "test_pred = predict_with_model(best_model, test_dataset)\n",
        "\n",
        "test_loss = F.cross_entropy(torch.from_numpy(test_pred),\n",
        "                            torch.from_numpy(test_source['target']).long())\n",
        "\n",
        "print('\\nСреднее значение функции потерь на валидации', float(test_loss))\n",
        "print('Доля верных ответов', accuracy_score(test_source['target'], test_pred.argmax(-1)))"
      ]
    },
    {
      "cell_type": "markdown",
      "metadata": {
        "id": "wxko2NYloKms"
      },
      "source": [
        "## Альтернативная реализация на scikit-learn"
      ]
    },
    {
      "cell_type": "code",
      "execution_count": null,
      "metadata": {
        "ExecuteTime": {
          "end_time": "2019-09-12T12:46:31.791405Z",
          "start_time": "2019-09-12T12:46:25.107897Z"
        },
        "scrolled": false,
        "id": "voL6tyleoKms"
      },
      "outputs": [],
      "source": [
        "from sklearn.feature_extraction.text import TfidfVectorizer\n",
        "from sklearn.pipeline import Pipeline\n",
        "from sklearn.linear_model import LogisticRegression\n",
        "\n",
        "# задаем алгоритм векторизации текстов - TfidfVectorizer\n",
        "sklearn_pipeline = Pipeline((('vect', TfidfVectorizer(tokenizer=tokenize_text_simple_regex,\n",
        "                                                      max_df=MAX_DF,\n",
        "                                                      min_df=MIN_COUNT)),\n",
        "                             ('cls', LogisticRegression())))\n",
        "# обучаем\n",
        "sklearn_pipeline.fit(train_source['data'], train_source['target']);"
      ]
    },
    {
      "cell_type": "markdown",
      "metadata": {
        "id": "WSdHuGb2oKms"
      },
      "source": [
        "## Оценка качества"
      ]
    },
    {
      "cell_type": "code",
      "execution_count": null,
      "metadata": {
        "ExecuteTime": {
          "end_time": "2019-09-12T12:46:35.454567Z",
          "start_time": "2019-09-12T12:46:31.792832Z"
        },
        "id": "3pyDJmzpoKmt"
      },
      "outputs": [],
      "source": [
        "sklearn_train_pred = sklearn_pipeline.predict_proba(train_source['data'])\n",
        "sklearn_train_loss = F.cross_entropy(torch.from_numpy(sklearn_train_pred),\n",
        "                                                 torch.from_numpy(train_source['target']))\n",
        "print('Среднее значение функции потерь на обучении', float(sklearn_train_loss))\n",
        "print('Доля верных ответов', accuracy_score(train_source['target'], sklearn_train_pred.argmax(-1)))\n",
        "print()\n",
        "\n",
        "sklearn_test_pred = sklearn_pipeline.predict_proba(test_source['data'])\n",
        "sklearn_test_loss = F.cross_entropy(torch.from_numpy(sklearn_test_pred),\n",
        "                                                torch.from_numpy(test_source['target']))\n",
        "print('Среднее значение функции потерь на валидации', float(sklearn_test_loss))\n",
        "print('Доля верных ответов', accuracy_score(test_source['target'], sklearn_test_pred.argmax(-1)))"
      ]
    },
    {
      "cell_type": "markdown",
      "source": [
        "# Обучение Word2Vec с помощью Gensim"
      ],
      "metadata": {
        "id": "ow0T2B-r15XQ"
      }
    },
    {
      "cell_type": "markdown",
      "source": [
        "https://github.com/sic-rus-ai/stepik-dl-nlp/blob/master/task2_word_embeddings.ipynb"
      ],
      "metadata": {
        "id": "hjdmltx5g18L"
      }
    },
    {
      "cell_type": "code",
      "source": [
        "!git clone https://github.com/Samsung-IT-Academy/stepik-dl-nlp.git && pip install -r stepik-dl-nlp/requirements.txt\n",
        "import sys; sys.path.append('./stepik-dl-nlp')"
      ],
      "metadata": {
        "id": "iY2F_UyMfAHr"
      },
      "execution_count": null,
      "outputs": []
    },
    {
      "cell_type": "code",
      "source": [
        "import gensim\n",
        "\n",
        "import pandas as pd\n",
        "import numpy as np\n",
        "import random\n",
        "import torch\n",
        "import matplotlib.pyplot as plt\n",
        "\n",
        "import dlnlputils\n",
        "from dlnlputils.data import tokenize_corpus\n",
        "from dlnlputils.visualization import plot_vectors"
      ],
      "metadata": {
        "id": "UB9lY5Uj14PP"
      },
      "execution_count": null,
      "outputs": []
    },
    {
      "cell_type": "markdown",
      "source": [
        "Данные"
      ],
      "metadata": {
        "id": "ygQEThxvfsfh"
      }
    },
    {
      "cell_type": "code",
      "source": [
        "full_dataset = list(pd.read_csv('./stepik-dl-nlp/datasets/nyt-ingredients-snapshot-2015.csv')['input'].dropna())\n",
        "random.shuffle(full_dataset)\n",
        "\n",
        "TRAIN_VAL_SPLIT = int(len(full_dataset) * 0.7)\n",
        "train_source = full_dataset[:TRAIN_VAL_SPLIT]\n",
        "test_source = full_dataset[TRAIN_VAL_SPLIT:]\n",
        "print(\"Обучающая выборка\", len(train_source))\n",
        "print(\"Тестовая выборка\", len(test_source))\n",
        "print()\n",
        "print('\\n'.join(train_source[:10]))"
      ],
      "metadata": {
        "colab": {
          "base_uri": "https://localhost:8080/"
        },
        "id": "9L3bd9Bzd7_s",
        "outputId": "ac3a13f2-d9c8-45ee-c553-bac6c61af994"
      },
      "execution_count": null,
      "outputs": [
        {
          "output_type": "stream",
          "name": "stdout",
          "text": [
            "Обучающая выборка 125344\n",
            "Тестовая выборка 53719\n",
            "\n",
            "1 tablespoon Dijon mustard\n",
            "2 tablespoons chopped fresh cilantro\n",
            "1 scallion, finely chopped\n",
            "28 medium-size plum tomatoes, the core end cut off, halved lengthwise\n",
            "1/2 green Thai chili pepper, stem removed\n",
            "1 tablespoon extra virgin olive oil\n",
            "3 cups sugar\n",
            "1 cup grated mozzarella cheese\n",
            "Powdered sugar for garnish\n",
            "2 tablespoons chopped mint, optional\n"
          ]
        }
      ]
    },
    {
      "cell_type": "code",
      "source": [
        "# токенизируем\n",
        "train_tokenized = tokenize_corpus(train_source)\n",
        "\n",
        "word2vec = gensim.models.Word2Vec(sentences=train_tokenized,\n",
        "                                  window=5, min_count=5, workers=4,\n",
        "                                  sg=1)"
      ],
      "metadata": {
        "id": "rn2llbHQebqq"
      },
      "execution_count": null,
      "outputs": []
    },
    {
      "cell_type": "code",
      "source": [
        "# слова, похожие на слово \"курица\"\n",
        "word2vec.wv.most_similar('chicken')"
      ],
      "metadata": {
        "colab": {
          "base_uri": "https://localhost:8080/"
        },
        "id": "tKBHUSDVeb7F",
        "outputId": "b9bd74b6-18ab-4da0-86b8-08be9b17a192"
      },
      "execution_count": null,
      "outputs": [
        {
          "output_type": "execute_result",
          "data": {
            "text/plain": [
              "[('duck', 0.8003277778625488),\n",
              " ('turkey', 0.747490644454956),\n",
              " ('thighs', 0.7004173398017883),\n",
              " ('quail', 0.685941755771637),\n",
              " ('carcass', 0.6851289868354797),\n",
              " ('veal', 0.684583306312561),\n",
              " ('simmering', 0.6833616495132446),\n",
              " ('defatted', 0.6804994344711304),\n",
              " ('rich', 0.6780915260314941),\n",
              " ('drumsticks', 0.6770983934402466)]"
            ]
          },
          "metadata": {},
          "execution_count": 31
        }
      ]
    },
    {
      "cell_type": "code",
      "source": [
        "# нарисуем вектора слов на плоскости\n",
        "test_words = ['salad', 'fish', 'salmon', 'sauvignon', 'beef', 'pork', 'steak', 'beer', 'cake', 'coffee', 'sausage', 'wine', 'merlot', 'zinfandel', 'trout', 'chardonnay', 'champagne', 'cacao']\n",
        "\n",
        "gensim_words = [w for w in test_words ]  # if w in word2vec.wv.vocab\n",
        "gensim_vectors = np.stack([word2vec.wv[w] for w in gensim_words])\n",
        "\n",
        "fig, ax = plt.subplots()\n",
        "fig.set_size_inches((10, 10))\n",
        "plot_vectors(gensim_vectors, test_words, how='svd', ax=ax)"
      ],
      "metadata": {
        "colab": {
          "base_uri": "https://localhost:8080/",
          "height": 592
        },
        "id": "NYKNPZ6efZHy",
        "outputId": "7aa60512-bb01-4596-cb3b-289434b26ac8"
      },
      "execution_count": null,
      "outputs": [
        {
          "output_type": "display_data",
          "data": {
            "text/plain": [
              "<Figure size 720x720 with 1 Axes>"
            ],
            "image/png": "[encoded data removed]"
          },
          "metadata": {
            "needs_background": "light"
          }
        }
      ]
    },
    {
      "cell_type": "markdown",
      "source": [
        "Можно выделить кластер напитков, например"
      ],
      "metadata": {
        "id": "2GL0icxBhKEJ"
      }
    },
    {
      "cell_type": "markdown",
      "source": [
        "## Загрузка предобученного Word2Vec (если нужно)"
      ],
      "metadata": {
        "id": "4dSyeQXEhbOP"
      }
    },
    {
      "cell_type": "markdown",
      "source": [
        "https://rusvectores.org/ru/ "
      ],
      "metadata": {
        "id": "hTvI0Bu1heYN"
      }
    },
    {
      "cell_type": "code",
      "source": [
        "import gensim.downloader as api\n",
        "\n",
        "available_models = api.info()['models'].keys()\n",
        "print('\\n'.join(available_models))\n",
        "\n",
        "pretrained = api.load('glove-twitter-25')  # могут много весить\n",
        "# word2vec-google-news-300 по хорошему, но весит 1.5Gb"
      ],
      "metadata": {
        "colab": {
          "base_uri": "https://localhost:8080/"
        },
        "id": "nnKWMTbqhdPs",
        "outputId": "c7aba778-b0c3-4159-bb43-3e2c12f4e49c"
      },
      "execution_count": null,
      "outputs": [
        {
          "output_type": "stream",
          "name": "stdout",
          "text": [
            "fasttext-wiki-news-subwords-300\n",
            "conceptnet-numberbatch-17-06-300\n",
            "word2vec-ruscorpora-300\n",
            "word2vec-google-news-300\n",
            "glove-wiki-gigaword-50\n",
            "glove-wiki-gigaword-100\n",
            "glove-wiki-gigaword-200\n",
            "glove-wiki-gigaword-300\n",
            "glove-twitter-25\n",
            "glove-twitter-50\n",
            "glove-twitter-100\n",
            "glove-twitter-200\n",
            "__testing_word2vec-matrix-synopsis\n",
            "[==================================================] 100.0% 104.8/104.8MB downloaded\n"
          ]
        }
      ]
    },
    {
      "cell_type": "code",
      "source": [
        "# список похожих слов\n",
        "pretrained.most_similar('cheese')"
      ],
      "metadata": {
        "colab": {
          "base_uri": "https://localhost:8080/"
        },
        "id": "WxXoTKLzhmiP",
        "outputId": "18d94431-18d1-4fe6-924a-4de188e194db"
      },
      "execution_count": null,
      "outputs": [
        {
          "output_type": "execute_result",
          "data": {
            "text/plain": [
              "[('salad', 0.9663354754447937),\n",
              " ('fries', 0.9657281041145325),\n",
              " ('chicken', 0.9655250906944275),\n",
              " ('peanut', 0.9608643054962158),\n",
              " ('butter', 0.9571344256401062),\n",
              " ('corn', 0.9545068740844727),\n",
              " ('bread', 0.9532765746116638),\n",
              " ('soup', 0.9529144763946533),\n",
              " ('cookies', 0.9505582451820374),\n",
              " ('pancakes', 0.9453889727592468)]"
            ]
          },
          "metadata": {},
          "execution_count": 43
        }
      ]
    },
    {
      "cell_type": "markdown",
      "source": [
        "Решаем задачу аналогии"
      ],
      "metadata": {
        "id": "z_f_3EoKiGuA"
      }
    },
    {
      "cell_type": "code",
      "source": [
        "# спросили у модели какие слова относятся к мужчине как королева относится к женщине\n",
        "pretrained.most_similar(positive=['man', 'queen'], negative=['king'])"
      ],
      "metadata": {
        "colab": {
          "base_uri": "https://localhost:8080/"
        },
        "id": "eN_r-f5IiD36",
        "outputId": "59962bbc-f2c8-45ba-f284-29a5276af9e3"
      },
      "execution_count": null,
      "outputs": [
        {
          "output_type": "execute_result",
          "data": {
            "text/plain": [
              "[('so', 0.9094545245170593),\n",
              " ('sad', 0.8963088393211365),\n",
              " ('i', 0.891746461391449),\n",
              " ('glad', 0.8785857558250427),\n",
              " ('mine', 0.8765345215797424),\n",
              " ('fine', 0.8713780045509338),\n",
              " ('ever', 0.8683590888977051),\n",
              " ('cos', 0.8655498027801514),\n",
              " ('forever', 0.8621163368225098),\n",
              " ('look', 0.8611385822296143)]"
            ]
          },
          "metadata": {},
          "execution_count": 44
        }
      ]
    },
    {
      "cell_type": "markdown",
      "source": [
        "Визуализируем похожие слова и их расположение"
      ],
      "metadata": {
        "id": "nF1umAYwiwFl"
      }
    },
    {
      "cell_type": "code",
      "source": [
        "pretrained_words = [w for w in test_words]\n",
        "pretrained_vectors = np.stack([pretrained[w] for w in pretrained_words])\n",
        "\n",
        "fig, ax = plt.subplots()\n",
        "fig.set_size_inches((10, 10))\n",
        "plot_vectors(pretrained_vectors, test_words, how='svd', ax=ax)"
      ],
      "metadata": {
        "colab": {
          "base_uri": "https://localhost:8080/",
          "height": 592
        },
        "id": "_miUVgCyioSb",
        "outputId": "bd94c235-cec9-4a7b-9a9f-a7c015f45c48"
      },
      "execution_count": null,
      "outputs": [
        {
          "output_type": "display_data",
          "data": {
            "text/plain": [
              "<Figure size 720x720 with 1 Axes>"
            ],
            "image/png": "[encoded data removed]"
          },
          "metadata": {
            "needs_background": "light"
          }
        }
      ]
    },
    {
      "cell_type": "markdown",
      "source": [
        "# Сверточная нейросеть"
      ],
      "metadata": {
        "id": "fgD9LCD1kNMW"
      }
    },
    {
      "cell_type": "markdown",
      "source": [
        "https://github.com/sic-rus-ai/stepik-dl-nlp/blob/master/task3_cnn_postag.ipynb"
      ],
      "metadata": {
        "id": "6tg_Wem9HfaZ"
      }
    },
    {
      "cell_type": "markdown",
      "source": [
        "# Рекурентная нейросеть PyTorch"
      ],
      "metadata": {
        "id": "fjwPxTksvQKz"
      }
    },
    {
      "cell_type": "markdown",
      "source": [
        "https://github.com/sic-rus-ai/stepik-dl-nlp/blob/master/task4_RNN_name_generator.ipynb   генерация лозунгов"
      ],
      "metadata": {
        "id": "PNyg-KWlORcQ"
      }
    },
    {
      "cell_type": "code",
      "source": [
        "from google.colab import files\n",
        "uploaded = files.upload()\n",
        "\n",
        "for fn in uploaded.keys(): \n",
        "  print('User uploaded file \"{name}\" with length {length} bytes'.format(\n",
        "      name=fn,length=len(uploaded[fn])))"
      ],
      "metadata": {
        "colab": {
          "base_uri": "https://localhost:8080/",
          "height": 90
        },
        "id": "lVK6WdQdSdNs",
        "outputId": "46375878-8b9f-41b1-c0bd-907454a0fe59"
      },
      "execution_count": null,
      "outputs": [
        {
          "output_type": "display_data",
          "data": {
            "text/plain": [
              "<IPython.core.display.HTML object>"
            ],
            "text/html": [
              "\n",
              "     <input type=\"file\" id=\"files-f927606f-90f5-4a26-9efc-965cf96adbdb\" name=\"files[]\" multiple disabled\n",
              "        style=\"border:none\" />\n",
              "     <output id=\"result-f927606f-90f5-4a26-9efc-965cf96adbdb\">\n",
              "      Upload widget is only available when the cell has been executed in the\n",
              "      current browser session. Please rerun this cell to enable.\n",
              "      </output>\n",
              "      <script>// Copyright 2017 Google LLC\n",
              "//\n",
              "// Licensed under the Apache License, Version 2.0 (the \"License\");\n",
              "// you may not use this file except in compliance with the License.\n",
              "// You may obtain a copy of the License at\n",
              "//\n",
              "//      http://www.apache.org/licenses/LICENSE-2.0\n",
              "//\n",
              "// Unless required by applicable law or agreed to in writing, software\n",
              "// distributed under the License is distributed on an \"AS IS\" BASIS,\n",
              "// WITHOUT WARRANTIES OR CONDITIONS OF ANY KIND, either express or implied.\n",
              "// See the License for the specific language governing permissions and\n",
              "// limitations under the License.\n",
              "\n",
              "/**\n",
              " * @fileoverview Helpers for google.colab Python module.\n",
              " */\n",
              "(function(scope) {\n",
              "function span(text, styleAttributes = {}) {\n",
              "  const element = document.createElement('span');\n",
              "  element.textContent = text;\n",
              "  for (const key of Object.keys(styleAttributes)) {\n",
              "    element.style[key] = styleAttributes[key];\n",
              "  }\n",
              "  return element;\n",
              "}\n",
              "\n",
              "// Max number of bytes which will be uploaded at a time.\n",
              "const MAX_PAYLOAD_SIZE = 100 * 1024;\n",
              "\n",
              "function _uploadFiles(inputId, outputId) {\n",
              "  const steps = uploadFilesStep(inputId, outputId);\n",
              "  const outputElement = document.getElementById(outputId);\n",
              "  // Cache steps on the outputElement to make it available for the next call\n",
              "  // to uploadFilesContinue from Python.\n",
              "  outputElement.steps = steps;\n",
              "\n",
              "  return _uploadFilesContinue(outputId);\n",
              "}\n",
              "\n",
              "// This is roughly an async generator (not supported in the browser yet),\n",
              "// where there are multiple asynchronous steps and the Python side is going\n",
              "// to poll for completion of each step.\n",
              "// This uses a Promise to block the python side on completion of each step,\n",
              "// then passes the result of the previous step as the input to the next step.\n",
              "function _uploadFilesContinue(outputId) {\n",
              "  const outputElement = document.getElementById(outputId);\n",
              "  const steps = outputElement.steps;\n",
              "\n",
              "  const next = steps.next(outputElement.lastPromiseValue);\n",
              "  return Promise.resolve(next.value.promise).then((value) => {\n",
              "    // Cache the last promise value to make it available to the next\n",
              "    // step of the generator.\n",
              "    outputElement.lastPromiseValue = value;\n",
              "    return next.value.response;\n",
              "  });\n",
              "}\n",
              "\n",
              "/**\n",
              " * Generator function which is called between each async step of the upload\n",
              " * process.\n",
              " * @param {string} inputId Element ID of the input file picker element.\n",
              " * @param {string} outputId Element ID of the output display.\n",
              " * @return {!Iterable<!Object>} Iterable of next steps.\n",
              " */\n",
              "function* uploadFilesStep(inputId, outputId) {\n",
              "  const inputElement = document.getElementById(inputId);\n",
              "  inputElement.disabled = false;\n",
              "\n",
              "  const outputElement = document.getElementById(outputId);\n",
              "  outputElement.innerHTML = '';\n",
              "\n",
              "  const pickedPromise = new Promise((resolve) => {\n",
              "    inputElement.addEventListener('change', (e) => {\n",
              "      resolve(e.target.files);\n",
              "    });\n",
              "  });\n",
              "\n",
              "  const cancel = document.createElement('button');\n",
              "  inputElement.parentElement.appendChild(cancel);\n",
              "  cancel.textContent = 'Cancel upload';\n",
              "  const cancelPromise = new Promise((resolve) => {\n",
              "    cancel.onclick = () => {\n",
              "      resolve(null);\n",
              "    };\n",
              "  });\n",
              "\n",
              "  // Wait for the user to pick the files.\n",
              "  const files = yield {\n",
              "    promise: Promise.race([pickedPromise, cancelPromise]),\n",
              "    response: {\n",
              "      action: 'starting',\n",
              "    }\n",
              "  };\n",
              "\n",
              "  cancel.remove();\n",
              "\n",
              "  // Disable the input element since further picks are not allowed.\n",
              "  inputElement.disabled = true;\n",
              "\n",
              "  if (!files) {\n",
              "    return {\n",
              "      response: {\n",
              "        action: 'complete',\n",
              "      }\n",
              "    };\n",
              "  }\n",
              "\n",
              "  for (const file of files) {\n",
              "    const li = document.createElement('li');\n",
              "    li.append(span(file.name, {fontWeight: 'bold'}));\n",
              "    li.append(span(\n",
              "        `(${file.type || 'n/a'}) - ${file.size} bytes, ` +\n",
              "        `last modified: ${\n",
              "            file.lastModifiedDate ? file.lastModifiedDate.toLocaleDateString() :\n",
              "                                    'n/a'} - `));\n",
              "    const percent = span('0% done');\n",
              "    li.appendChild(percent);\n",
              "\n",
              "    outputElement.appendChild(li);\n",
              "\n",
              "    const fileDataPromise = new Promise((resolve) => {\n",
              "      const reader = new FileReader();\n",
              "      reader.onload = (e) => {\n",
              "        resolve(e.target.result);\n",
              "      };\n",
              "      reader.readAsArrayBuffer(file);\n",
              "    });\n",
              "    // Wait for the data to be ready.\n",
              "    let fileData = yield {\n",
              "      promise: fileDataPromise,\n",
              "      response: {\n",
              "        action: 'continue',\n",
              "      }\n",
              "    };\n",
              "\n",
              "    // Use a chunked sending to avoid message size limits. See b/62115660.\n",
              "    let position = 0;\n",
              "    do {\n",
              "      const length = Math.min(fileData.byteLength - position, MAX_PAYLOAD_SIZE);\n",
              "      const chunk = new Uint8Array(fileData, position, length);\n",
              "      position += length;\n",
              "\n",
              "      const base64 = btoa(String.fromCharCode.apply(null, chunk));\n",
              "      yield {\n",
              "        response: {\n",
              "          action: 'append',\n",
              "          file: file.name,\n",
              "          data: base64,\n",
              "        },\n",
              "      };\n",
              "\n",
              "      let percentDone = fileData.byteLength === 0 ?\n",
              "          100 :\n",
              "          Math.round((position / fileData.byteLength) * 100);\n",
              "      percent.textContent = `${percentDone}% done`;\n",
              "\n",
              "    } while (position < fileData.byteLength);\n",
              "  }\n",
              "\n",
              "  // All done.\n",
              "  yield {\n",
              "    response: {\n",
              "      action: 'complete',\n",
              "    }\n",
              "  };\n",
              "}\n",
              "\n",
              "scope.google = scope.google || {};\n",
              "scope.google.colab = scope.google.colab || {};\n",
              "scope.google.colab._files = {\n",
              "  _uploadFiles,\n",
              "  _uploadFilesContinue,\n",
              "};\n",
              "})(self);\n",
              "</script> "
            ]
          },
          "metadata": {}
        },
        {
          "output_type": "stream",
          "name": "stdout",
          "text": [
            "Saving author_quotes.txt to author_quotes.txt\n",
            "User uploaded file \"author_quotes.txt\" with length 4757084 bytes\n"
          ]
        }
      ]
    },
    {
      "cell_type": "code",
      "source": [
        "!ls"
      ],
      "metadata": {
        "colab": {
          "base_uri": "https://localhost:8080/"
        },
        "id": "H2UXBc_gTuTn",
        "outputId": "ead520de-5ad6-4ca1-ba37-700e657d2efd"
      },
      "execution_count": null,
      "outputs": [
        {
          "output_type": "stream",
          "name": "stdout",
          "text": [
            "author_quotes.txt  sample_data\n"
          ]
        }
      ]
    },
    {
      "cell_type": "markdown",
      "source": [
        "Подготавливаем данные"
      ],
      "metadata": {
        "id": "NMRrrlcoT2Xg"
      }
    },
    {
      "cell_type": "code",
      "source": [
        "with open('author_quotes.txt') as input_file:\n",
        "    quotes = input_file.read()[:-1].split('\\n')\n",
        "    quotes = [' ' + line for line in quotes]\n",
        "\n",
        "# Препроцессинг\n",
        "tokens = list(set(''.join(quotes)))\n",
        "\n",
        "# Символы -> id\n",
        "token_to_id = {token: idx for idx, token in enumerate(tokens)}\n",
        "num_tokens = len(tokens) \n",
        "\n",
        "# Проверяем, что все хорошо\n",
        "assert len(tokens) == len(token_to_id), \"dictionaries must have same size\"\n",
        "for i in range(num_tokens):\n",
        "    assert token_to_id[tokens[i]] == i, \"token identifier must be it's position in tokens list\"\n",
        "print(\"Seems alright!\")   "
      ],
      "metadata": {
        "colab": {
          "base_uri": "https://localhost:8080/"
        },
        "id": "b2IRmSsZSUrg",
        "outputId": "672f236c-7fa9-447d-c155-0f58e6e96850"
      },
      "execution_count": null,
      "outputs": [
        {
          "output_type": "stream",
          "name": "stdout",
          "text": [
            "Seems alright!\n"
          ]
        }
      ]
    },
    {
      "cell_type": "code",
      "source": [
        "# Необходимые функции\n",
        "def to_matrix(data, token_to_id, max_len=None, dtype='int32', batch_first = True):\n",
        "    \"\"\"Casts a list of names into rnn-digestable matrix\"\"\"\n",
        "    \n",
        "    max_len = max_len or max(map(len, data))\n",
        "    data_ix = np.zeros([len(data), max_len], dtype) + token_to_id[' ']\n",
        "\n",
        "    for i in range(len(data)):\n",
        "        line_ix = [token_to_id[c] for c in data[i]]\n",
        "        data_ix[i, :len(line_ix)] = line_ix\n",
        "        \n",
        "    if not batch_first: # convert [batch, time] into [time, batch]\n",
        "        data_ix = np.transpose(data_ix)\n",
        "\n",
        "    return data_ix\n",
        "\n",
        "\n",
        "MAX_LENGTH = max(map(len, quotes))\n",
        "# RNN: генерация лозунгов\n",
        "def generate_sample(char_rnn, seed_phrase=' ', max_length=MAX_LENGTH, temperature=1.0):\n",
        "    '''\n",
        "    The function generates text given a phrase of length at least SEQ_LENGTH.\n",
        "    :param seed_phrase: prefix characters. The RNN is asked to continue the phrase\n",
        "    :param max_length: maximum output length, including seed_phrase\n",
        "    :param temperature: coefficient for sampling.  higher temperature produces more chaotic outputs,\n",
        "                        smaller temperature converges to the single most likely output\n",
        "    '''\n",
        "    \n",
        "    x_sequence = [token_to_id[token] for token in seed_phrase]\n",
        "    x_sequence = torch.tensor([x_sequence], dtype=torch.int64)\n",
        "    hid_state = 64\n",
        "    \n",
        "    #feed the seed phrase, if any\n",
        "    for i in range(len(seed_phrase) - 1):\n",
        "        hid_state, _ = char_rnn(x_sequence[:, i], hid_state)\n",
        "    \n",
        "    #start generating\n",
        "    for _ in range(max_length - len(seed_phrase)):\n",
        "        hid_state, logp_next = char_rnn(x_sequence[:, -1], hid_state)\n",
        "        p_next = F.softmax(logp_next / temperature, dim=-1).data.numpy()[0]\n",
        "        \n",
        "        # sample next token and push it back into x_sequence\n",
        "        next_ix = np.random.choice(len(tokens), p=p_next)\n",
        "        next_ix = torch.tensor([[next_ix]], dtype=torch.int64)\n",
        "        x_sequence = torch.cat([x_sequence, next_ix], dim=1)\n",
        "        \n",
        "    return ''.join([tokens[ix] for ix in x_sequence.data.numpy()[0]])"
      ],
      "metadata": {
        "id": "ZQbIf4ysUFuQ"
      },
      "execution_count": null,
      "outputs": []
    },
    {
      "cell_type": "markdown",
      "source": [
        "Используем готовые модули для создания модели и ее обучения"
      ],
      "metadata": {
        "id": "_H-ue9WCPnFP"
      }
    },
    {
      "cell_type": "code",
      "source": [
        "import numpy as np\n",
        "import matplotlib.pyplot as plt\n",
        "import torch, torch.nn as nn\n",
        "import torch.nn.functional as F\n",
        "from torch.autograd import Variable\n",
        "from IPython.display import clear_output\n",
        "from random import sample\n",
        "\n",
        "class CharRNNLoop(nn.Module):\n",
        "    def __init__(self, num_tokens=num_tokens, emb_size=16, rnn_num_units=64):\n",
        "        super(self.__class__, self).__init__()\n",
        "        self.emb = nn.Embedding(num_tokens, emb_size)\n",
        "        self.rnn = nn.RNN(emb_size, rnn_num_units, batch_first=True)\n",
        "        self.hid_to_logits = nn.Linear(rnn_num_units, num_tokens)\n",
        "        \n",
        "    def forward(self, x):\n",
        "        assert isinstance(x, Variable) and isinstance(x.data, torch.LongTensor)\n",
        "        h_seq, _ = self.rnn(self.emb(x))\n",
        "        next_logits = self.hid_to_logits(h_seq)\n",
        "        next_logp = F.log_softmax(next_logits, dim=-1)\n",
        "        return next_logp  \n",
        "    \n",
        "model = CharRNNLoop()\n",
        "opt = torch.optim.Adam(model.parameters())\n",
        "history = []"
      ],
      "metadata": {
        "id": "uCp6u8BoLHLq"
      },
      "execution_count": null,
      "outputs": []
    },
    {
      "cell_type": "code",
      "source": [
        "MAX_LENGTH = max(map(len, quotes))\n",
        "\n",
        "batch_ix = to_matrix(sample(quotes, 32), token_to_id, max_len=MAX_LENGTH)\n",
        "batch_ix = Variable(torch.LongTensor(batch_ix))\n",
        "logp_seq = model(batch_ix)\n",
        "\n",
        "loss = F.nll_loss(logp_seq[:, 1:].contiguous().view(-1, num_tokens), \n",
        "                  batch_ix[:, :-1].contiguous().view(-1))\n",
        "loss.backward()\n",
        "\n",
        "\n",
        "\n",
        "# Обучение в реальном времени\n",
        "MAX_LENGTH = max(map(len, quotes))\n",
        "\n",
        "for i in range(200):\n",
        "    batch_ix = to_matrix(sample(quotes, 32), token_to_id, max_len=MAX_LENGTH)\n",
        "    batch_ix = torch.tensor(batch_ix, dtype=torch.int64)\n",
        "    \n",
        "    logp_seq = model(batch_ix)\n",
        "    \n",
        "    # compute loss\n",
        "    predictions_logp = logp_seq[:, :-1]\n",
        "    actual_next_tokens = batch_ix[:, 1:]\n",
        "\n",
        "    loss = -torch.mean(torch.gather(predictions_logp, dim=2, index=actual_next_tokens[:,:,None]))\n",
        "    \n",
        "    # train with backprop\n",
        "    loss.backward()\n",
        "    opt.step()\n",
        "    opt.zero_grad()\n",
        "    \n",
        "    history.append(loss.data.numpy())\n",
        "    if (i + 1) % 100 == 0:\n",
        "        clear_output(True)\n",
        "        plt.plot(history, label='loss')\n",
        "        plt.legend()\n",
        "        plt.show()\n",
        "\n",
        "assert np.mean(history[:25]) > np.mean(history[-25:]), \"RNN didn't converge.\""
      ],
      "metadata": {
        "colab": {
          "base_uri": "https://localhost:8080/",
          "height": 433
        },
        "id": "nfl8_YB5Pvj3",
        "outputId": "8a515395-84c4-46ec-a3e3-4da7e4a0c654"
      },
      "execution_count": null,
      "outputs": [
        {
          "output_type": "display_data",
          "data": {
            "text/plain": [
              "<Figure size 640x480 with 1 Axes>"
            ],
            "image/png": "[encoded data removed]"
          },
          "metadata": {}
        }
      ]
    },
    {
      "cell_type": "code",
      "source": [
        "history[-1]"
      ],
      "metadata": {
        "colab": {
          "base_uri": "https://localhost:8080/"
        },
        "id": "06qlKp-sZbU5",
        "outputId": "c0811407-361f-4895-c924-8a6c1ab4d7f7"
      },
      "execution_count": null,
      "outputs": [
        {
          "output_type": "execute_result",
          "data": {
            "text/plain": [
              "array(0.60824156, dtype=float32)"
            ]
          },
          "metadata": {},
          "execution_count": 38
        }
      ]
    },
    {
      "cell_type": "markdown",
      "source": [
        "Генерация"
      ],
      "metadata": {
        "id": "fcS5wuzBQGFH"
      }
    },
    {
      "cell_type": "code",
      "source": [
        "for _ in range(10):\n",
        "    print(generate_sample(model))"
      ],
      "metadata": {
        "id": "0c_215n9QEon"
      },
      "execution_count": null,
      "outputs": []
    },
    {
      "cell_type": "markdown",
      "source": [
        "# Трансформер для генерации текста"
      ],
      "metadata": {
        "id": "yrlGHM-EcvId"
      }
    },
    {
      "cell_type": "markdown",
      "source": [
        "https://github.com/sic-rus-ai/stepik-dl-nlp/blob/master/task5_text_transformer.ipynb"
      ],
      "metadata": {
        "id": "u68TbEQzwA9Y"
      }
    },
    {
      "cell_type": "code",
      "source": [
        "!pip dlnlputils\n",
        "import dlnlputils\n",
        "from dlnlputils.data import LanguageModelDataset, GreedyGenerator"
      ],
      "metadata": {
        "id": "20KM-lmmxlif"
      },
      "execution_count": null,
      "outputs": []
    },
    {
      "cell_type": "code",
      "source": [
        "class BatchFirstTransformerEncoder(nn.Module):\n",
        "    def __init__(self, *args, **kwargs):\n",
        "        super().__init__()\n",
        "        self.impl = nn.TransformerEncoder(*args, **kwargs)\n",
        "        self.initialize_weights()\n",
        "    \n",
        "    def forward(self, src, *args, **kwargs):\n",
        "        src = src.transpose(0, 1).contiguous()  # MaxInLen  x BatchSize x EmbSize\n",
        "        result = self.impl(src, *args, **kwargs)  # TargetLen x BatchSize x EmbSize\n",
        "        result = result.transpose(0, 1).contiguous()  # BatchSize x TargetLen x EmbSize\n",
        "        return result\n",
        "    \n",
        "    def initialize_weights(self):\n",
        "        for param in self.impl.parameters():\n",
        "            if param.dim() > 1:\n",
        "                nn.init.xavier_uniform_(param)"
      ],
      "metadata": {
        "id": "MVzmMfZ6vM13"
      },
      "execution_count": null,
      "outputs": []
    },
    {
      "cell_type": "code",
      "source": [
        "torch_transf_model = LanguageModel(tokenizer.vocab_size(),\n",
        "                                   256,\n",
        "                                   BatchFirstTransformerEncoder(\n",
        "                                       nn.TransformerEncoderLayer(\n",
        "                                           d_model=256,\n",
        "                                           nhead=16,\n",
        "                                           dim_feedforward=512,\n",
        "                                           dropout=0.1),\n",
        "                                       num_layers=3),\n",
        "                                   emb_dropout=0.1)\n",
        "print('Количество параметров', get_params_number(torch_transf_model))"
      ],
      "metadata": {
        "id": "N_XCj9a-wruZ"
      },
      "execution_count": null,
      "outputs": []
    },
    {
      "cell_type": "code",
      "source": [
        "(best_val_loss,\n",
        " best_torch_transf_model) = train_eval_loop(torch_transf_model,\n",
        "                                            train_dataset,\n",
        "                                            test_dataset,\n",
        "                                            lm_cross_entropy,\n",
        "                                            lr=2e-3,\n",
        "                                            epoch_n=2000,\n",
        "                                            batch_size=512,\n",
        "                                            device='cuda',\n",
        "                                            early_stopping_patience=50,\n",
        "                                            max_batches_per_epoch_train=1000,\n",
        "                                            max_batches_per_epoch_val=1000,\n",
        "                                            lr_scheduler_ctor=lr_scheduler)"
      ],
      "metadata": {
        "id": "_F96FDrVwvPb"
      },
      "execution_count": null,
      "outputs": []
    },
    {
      "cell_type": "code",
      "source": [
        "# сохранение лучшей модели\n",
        "torch.save(best_torch_transf_model.state_dict(), './models/war_and_peace_torch_transf_best.pth')\n",
        "# загрузка лучшей модели\n",
        "torch_transf_model.load_state_dict(torch.load('./models/war_and_peace_torch_transf_best.pth'))"
      ],
      "metadata": {
        "id": "MeubTqspwzOO"
      },
      "execution_count": null,
      "outputs": []
    },
    {
      "cell_type": "markdown",
      "source": [
        "# LSTM сеть для определения сущностей в рецептах"
      ],
      "metadata": {
        "id": "AiQ3hunYyroN"
      }
    },
    {
      "cell_type": "markdown",
      "source": [
        "https://github.com/sic-rus-ai/stepik-dl-nlp/blob/master/task6_recipe_ner.ipynb"
      ],
      "metadata": {
        "id": "uATmvlvX3G81"
      }
    },
    {
      "cell_type": "code",
      "source": [
        "EMBEDDING_DIM = 32\n",
        "HIDDEN_DIM    = 32\n",
        "VOCAB_SIZE    = len(converter.word_to_idx)\n",
        "TAGSET_SIZE   = len(converter.tag_to_idx)\n",
        "\n",
        "\n",
        "class LSTMTagger(nn.Module):\n",
        "\n",
        "    def __init__(self, embedding_dim, hidden_dim, vocab_size, tagset_size):\n",
        "        \n",
        "        super(LSTMTagger, self).__init__()\n",
        "        \n",
        "        self.hidden_dim      = hidden_dim\n",
        "        self.word_embeddings = nn.Embedding(vocab_size, embedding_dim)\n",
        "        self.lstm            = nn.LSTM(embedding_dim, hidden_dim)\n",
        "        self.hidden2tag      = nn.Linear(hidden_dim, tagset_size)\n",
        "\n",
        "    def forward(self, words):\n",
        "        embeds      = self.word_embeddings(words)\n",
        "        lstm_out, _ = self.lstm(embeds.view(len(words), 1, -1))\n",
        "        tag_space   = self.hidden2tag(lstm_out.view(len(words), -1))\n",
        "        tag_scores  = F.log_softmax(tag_space, dim=1)\n",
        "        \n",
        "        return tag_scores\n",
        "    \n",
        "    def predict_tags(self, words):\n",
        "        with torch.no_grad():\n",
        "            tags_pred = model(words).numpy()\n",
        "            tags_pred = np.argmax(tags_pred, axis=1)\n",
        "            \n",
        "        return tags_pred\n",
        "\n",
        "model         = LSTMTagger(EMBEDDING_DIM, HIDDEN_DIM, VOCAB_SIZE, TAGSET_SIZE)\n",
        "loss_function = nn.NLLLoss() \n",
        "optimizer     = optim.SGD(model.parameters(), lr=0.1)        "
      ],
      "metadata": {
        "id": "uJypx1gJyrMj"
      },
      "execution_count": null,
      "outputs": []
    },
    {
      "cell_type": "code",
      "source": [
        "from livelossplot import PlotLosses\n",
        "\n",
        "liveplot = PlotLosses()\n",
        "\n",
        "for epoch in range(1): \n",
        "    for i, (recipe, tags) in enumerate(training_data):\n",
        "        \n",
        "        model.zero_grad()\n",
        "        \n",
        "        encoded_recipe = converter.words_to_index(recipe) # слово -> его номер в словаре \n",
        "        encoded_tags   = converter.tags_to_index(tags)    # тэг   -> его номер в списке тэгов\n",
        "        \n",
        "        tag_scores     = model(encoded_recipe)\n",
        "\n",
        "        loss = loss_function(tag_scores, encoded_tags)\n",
        "        loss.backward()\n",
        "        optimizer.step()\n",
        "        \n",
        "        \n",
        "        if i % 500 == 0:\n",
        "            liveplot.update({'negative log likelihood loss': loss})\n",
        "            liveplot.draw()\n",
        "            \n",
        "            \n",
        "        if i == 15000:\n",
        "            break"
      ],
      "metadata": {
        "id": "aV51CkyZ28br"
      },
      "execution_count": null,
      "outputs": []
    },
    {
      "cell_type": "code",
      "source": [
        "def predict_tags(model, converter, recipe):\n",
        "    \n",
        "    encoded_recipe = converter.words_to_index(recipe)        # слово -> его номер в словаре\n",
        "    encoded_tags   = model.predict_tags(encoded_recipe)      # предсказанные тэги (номера)\n",
        "    decoded_tags   = converter.indices_to_tags(encoded_tags) # номер тэга -> тэг\n",
        "    return decoded_tags\n",
        "\n",
        "for i in range(0,10):\n",
        "\n",
        "    recipe, tags = test_data[np.random.randint(0,7000)]\n",
        "    tags_pred    = predict_tags(model, converter, recipe)\n",
        "\n",
        "    print('истинные тэги:')\n",
        "    show_markup(recipe, tags)\n",
        "\n",
        "    print('предсказанные тэги:')\n",
        "    show_markup(recipe, tags_pred)\n",
        "    print()"
      ],
      "metadata": {
        "id": "HvMGM91f29tM"
      },
      "execution_count": null,
      "outputs": []
    },
    {
      "cell_type": "markdown",
      "source": [
        "# ENC+DEC для Генерации кода по вопросам со StackOverflow"
      ],
      "metadata": {
        "id": "-h1O8NE_3FW6"
      }
    },
    {
      "cell_type": "markdown",
      "source": [
        "https://github.com/sic-rus-ai/stepik-dl-nlp/blob/master/task8_generate_stackoverflow_code.ipynb"
      ],
      "metadata": {
        "id": "w1EghX2jxINw"
      }
    },
    {
      "cell_type": "markdown",
      "source": [
        "# Ссылки на исходники мощных моделей"
      ],
      "metadata": {
        "id": "xc71Hvc39-E8"
      }
    },
    {
      "cell_type": "markdown",
      "source": [
        "Transformer-XL https://github.com/kimiyoung/transformer-xl/\n",
        "\n",
        "BERT https://github.com/google-research/bert\n",
        "\n",
        "ELMO https://github.com/allenai/bilm-tf\n",
        "\n",
        "GPT-2 https://github.com/openai/gpt-2\n",
        "\n",
        "OpenAI Transformer https://github.com/openai/finetune-transformer-lm"
      ],
      "metadata": {
        "id": "n430YCoT-JJl"
      }
    },
    {
      "cell_type": "markdown",
      "source": [
        "# Определение эмоциональной окраски твитов с помощью BERT"
      ],
      "metadata": {
        "id": "Zb4iPWPx_hWJ"
      }
    },
    {
      "cell_type": "markdown",
      "source": [
        "https://github.com/sic-rus-ai/stepik-dl-nlp/blob/master/task9_bert_sentiment_analysis.ipynb "
      ],
      "metadata": {
        "id": "U8IP7nMA_bRA"
      }
    },
    {
      "cell_type": "markdown",
      "source": [
        "# Генерация названий научных статей c помощью трансформера"
      ],
      "metadata": {
        "id": "U2rchFzNLuCd"
      }
    },
    {
      "cell_type": "code",
      "source": [
        "pip install -U transformers"
      ],
      "metadata": {
        "id": "fizJYVA8Vvpu"
      },
      "execution_count": null,
      "outputs": []
    },
    {
      "cell_type": "code",
      "source": [
        "from google.colab import files\n",
        "uploaded = files.upload()\n",
        "\n",
        "for fn in uploaded.keys(): \n",
        "  print('User uploaded file \"{name}\" with length {length} bytes'.format(\n",
        "      name=fn,length=len(uploaded[fn])))"
      ],
      "metadata": {
        "id": "mLCkDyJcMXMp"
      },
      "execution_count": null,
      "outputs": []
    },
    {
      "cell_type": "code",
      "source": [
        "import numpy as np \n",
        "import pandas as pd  \n",
        "\n",
        "import torch\n",
        "import torch.nn as nn\n",
        "import torch.optim as optim\n",
        "import torch.nn.functional as F\n",
        "\n",
        "import spacy\n",
        "\n",
        "import random\n",
        "import math\n",
        "import time\n",
        "import os\n",
        "import io\n",
        "\n",
        "import matplotlib.pyplot as plt\n",
        "import matplotlib.pyplot as plt\n",
        "import matplotlib.ticker as ticker\n",
        "\n",
        "from torch.utils.data import TensorDataset, DataLoader, RandomSampler, SequentialSampler\n",
        "from sklearn.model_selection import train_test_split\n",
        "from tqdm import tqdm, trange\n",
        "from sklearn.metrics import accuracy_score\n",
        "\n",
        "import random\n",
        "SEED = 1234\n",
        "random.seed(SEED)\n",
        "torch.manual_seed(SEED)"
      ],
      "metadata": {
        "colab": {
          "base_uri": "https://localhost:8080/"
        },
        "id": "lLYAKUsGV562",
        "outputId": "25d304ce-588a-45dd-eb32-244bb17355fb"
      },
      "execution_count": null,
      "outputs": [
        {
          "output_type": "execute_result",
          "data": {
            "text/plain": [
              "<torch._C.Generator at 0x7f158ff3e890>"
            ]
          },
          "metadata": {},
          "execution_count": 6
        }
      ]
    },
    {
      "cell_type": "code",
      "source": [
        "number_lines = 33_500\n",
        "train = pd.read_csv('train.csv', encoding='utf8', nrows=number_lines)\n",
        "\n",
        "for i in tqdm(range(len(train))):\n",
        "    train['abstract'][i] = train['abstract'][i][:512]\n",
        "\n",
        "\n",
        "device = torch.device(\"cuda\" if torch.cuda.is_available() else \"cpu\")\n",
        "\n",
        "\n",
        "\n",
        "train_df, val_df = train_test_split(train, test_size=0.1)"
      ],
      "metadata": {
        "colab": {
          "base_uri": "https://localhost:8080/"
        },
        "id": "42RPo5d0WAEF",
        "outputId": "dc341ecb-746a-4b51-f6ab-53c64eb3a679"
      },
      "execution_count": null,
      "outputs": [
        {
          "output_type": "stream",
          "name": "stderr",
          "text": [
            "100%|██████████| 33500/33500 [00:18<00:00, 1807.05it/s]\n"
          ]
        }
      ]
    },
    {
      "cell_type": "code",
      "source": [
        "from PIL import Image\n",
        "from torch.utils.data import Dataset\n",
        "\n",
        "class TextDataset(Dataset):\n",
        "    def __init__(self, df, tokenizer, transform=None):\n",
        "        self.df = df\n",
        "        self.transform = transform\n",
        "        self.tokenizer = tokenizer\n",
        "        self.max_length = 512\n",
        "\n",
        "        self.abstracts = self.tokenizer(list(df.abstract),\n",
        "                                         padding='max_length',\n",
        "                                         max_length=self.max_length,\n",
        "                                         add_special_tokens = True).input_ids\n",
        "        self.titles = self.tokenizer(list(df.title),\n",
        "                                      padding='max_length',\n",
        "                                      max_length=self.max_length,\n",
        "                                      add_special_tokens = True).input_ids\n",
        "\n",
        "\n",
        "    def __len__(self):\n",
        "        return len(self.df)\n",
        "\n",
        "    def __getitem__(self, idx):\n",
        "        abstract = self.abstracts[idx]\n",
        "        title = self.titles[idx]\n",
        "\n",
        "        encoding = {\"input_ids\": torch.tensor(abstract), \"labels\": torch.tensor(title)}\n",
        "        return encoding"
      ],
      "metadata": {
        "id": "06Byvgt8WiA7"
      },
      "execution_count": null,
      "outputs": []
    },
    {
      "cell_type": "markdown",
      "source": [
        "Скачивание предобученных моделей"
      ],
      "metadata": {
        "id": "VbaQeu_YWjqm"
      }
    },
    {
      "cell_type": "code",
      "source": [
        "from transformers import AutoModelForSeq2SeqLM, DataCollatorForSeq2Seq, Seq2SeqTrainingArguments, Seq2SeqTrainer, AutoTokenizer\n",
        "from transformers import DataCollatorForSeq2Seq\n",
        "\n",
        "\n",
        "name_pretrain_model = \"google/pegasus-xsum\"\n",
        "tokenizer = AutoTokenizer.from_pretrained(name_pretrain_model)\n",
        "model = AutoModelForSeq2SeqLM.from_pretrained(name_pretrain_model).to(device)\n",
        "\n",
        "model.resize_token_embeddings(len(tokenizer))\n",
        "\n",
        "train_dataset = TextDataset(train_df, tokenizer=tokenizer)\n",
        "val_dataset = TextDataset(val_df, tokenizer=tokenizer)\n",
        "\n",
        "seq2seq_data_collator = DataCollatorForSeq2Seq(tokenizer, model=model)"
      ],
      "metadata": {
        "id": "-aSAjJhNWlMr"
      },
      "execution_count": null,
      "outputs": []
    },
    {
      "cell_type": "markdown",
      "source": [
        "Обучение"
      ],
      "metadata": {
        "id": "RNxicevvWnzf"
      }
    },
    {
      "cell_type": "markdown",
      "source": [
        "Ошибка, связанная с версией библиотеки("
      ],
      "metadata": {
        "id": "-yrfytwvWk7t"
      }
    },
    {
      "cell_type": "code",
      "source": [
        "!pip install torch==1.8."
      ],
      "metadata": {
        "id": "lkCcgeCGcoqB"
      },
      "execution_count": null,
      "outputs": []
    },
    {
      "cell_type": "code",
      "source": [
        "batch_size = 1\n",
        "os.environ[\"WANDB_DISABLED\"] = \"true\"\n",
        "# os.environ['CUDA_LAUNCH_BLOCKING'] = '1'\n",
        "\n",
        "args = Seq2SeqTrainingArguments(\n",
        "    output_dir=\"./\",\n",
        "    evaluation_strategy = \"epoch\",\n",
        "    learning_rate=2e-5,\n",
        "    per_device_train_batch_size=batch_size,\n",
        "    per_device_eval_batch_size=batch_size,\n",
        "    weight_decay=0.01,\n",
        "    save_steps=100000000,\n",
        "    save_total_limit=1,\n",
        "    num_train_epochs=2,\n",
        "    fp16=True,\n",
        "    predict_with_generate=True\n",
        ")\n",
        "\n",
        "trainer = Seq2SeqTrainer(\n",
        "    data_collator=seq2seq_data_collator,\n",
        "    model=model,\n",
        "    tokenizer=tokenizer,\n",
        "    args=args,\n",
        "    train_dataset=train_dataset,\n",
        "    eval_dataset=val_dataset,\n",
        "    # data_collator=seq2seq_data_collator\n",
        ")\n",
        "\n",
        "\n",
        "trainer.train()"
      ],
      "metadata": {
        "id": "-wA1bU58WtUc"
      },
      "execution_count": null,
      "outputs": []
    },
    {
      "cell_type": "markdown",
      "source": [
        "Вывод"
      ],
      "metadata": {
        "id": "ncN6kis-Wyqq"
      }
    },
    {
      "cell_type": "code",
      "source": [
        "def get_title(text):\n",
        "    x = tokenizer(text, return_tensors=\"pt\").input_ids.to(device)\n",
        "    generated_ids = model.generate(x)\n",
        "    generated_text = tokenizer.batch_decode(generated_ids, skip_special_tokens=True)[0]\n",
        "    return generated_text\n",
        "\n",
        "\n",
        "submission_data = pd.read_csv('test (4).csv')\n",
        "abstracts = submission_data['abstract'].values \n",
        "\n",
        "\n",
        "\n",
        "from IPython.display import clear_output \n",
        "\n",
        "titles = []\n",
        "len_abstracts = len(abstracts)\n",
        "for idx, abstract in enumerate(abstracts):\n",
        "    title = get_title(abstract)\n",
        "    titles.append(title)\n",
        "    clear_output()\n",
        "    print(f'ready {round(100 * idx / len_abstracts)}%')\n",
        "\n",
        "\n",
        "\n",
        "import pickle\n",
        "import string\n",
        "from nltk.util import ngrams\n",
        "\n",
        "submission_df = pd.DataFrame({'abstract': abstracts, 'title': titles})\n",
        "submission_df.to_csv('predicted_titles.csv')\n",
        "\n",
        "\n",
        "def generate_csv(input_file='/kaggle/working/predicted_titles.csv',\n",
        "                 output_file='submission.csv',\n",
        "                 voc_file='/kaggle/input/title-generation/vocs.pkl'):\n",
        "    '''\n",
        "    Generates file in format required for submitting result to Kaggle\n",
        "\n",
        "    Parameters:\n",
        "        input_file (str) : path to csv file with your predicted titles.\n",
        "                           Should have two fields: abstract and title\n",
        "        output_file (str) : path to output submission file\n",
        "        voc_file (str) : path to voc.pkl file\n",
        "    '''\n",
        "    data = pd.read_csv(input_file)\n",
        "    with open(voc_file, 'rb') as voc_file:\n",
        "        vocs = pickle.load(voc_file)\n",
        "\n",
        "    with open(output_file, 'w') as res_file:\n",
        "        res_file.write('Id,Predict\\n')\n",
        "\n",
        "    output_idx = 0\n",
        "    for row_idx, row in data.iterrows():\n",
        "        trg = row['title']\n",
        "        if isinstance(trg, float):\n",
        "            trg = 'nope'\n",
        "            VOCAB_stoi = vocs[row_idx]\n",
        "            trg_intersection = set(VOCAB_stoi.keys()).intersection(set(trg))\n",
        "            trg_vec = np.zeros(len(VOCAB_stoi))\n",
        "            \n",
        "            for word in trg_intersection:\n",
        "                trg_vec[VOCAB_stoi[word]] = 1\n",
        "            \n",
        "            with open(output_file, 'a') as res_file:\n",
        "                for is_word in trg_vec:\n",
        "                    res_file.write('{0},{1}\\n'.format(output_idx, int(is_word)))\n",
        "                    output_idx += 1\n",
        "            \n",
        "            continue \n",
        "        trg = trg.translate(str.maketrans('', '', string.punctuation)).lower().split()\n",
        "        trg.extend(['_'.join(ngram) for ngram in list(ngrams(trg, 2)) + list(ngrams(trg, 3))])\n",
        "\n",
        "        VOCAB_stoi = vocs[row_idx]\n",
        "        trg_intersection = set(VOCAB_stoi.keys()).intersection(set(trg))\n",
        "        trg_vec = np.zeros(len(VOCAB_stoi))\n",
        "\n",
        "        for word in trg_intersection:\n",
        "            trg_vec[VOCAB_stoi[word]] = 1\n",
        "\n",
        "        with open(output_file, 'a') as res_file:\n",
        "            for is_word in trg_vec:\n",
        "                res_file.write('{0},{1}\\n'.format(output_idx, int(is_word)))\n",
        "                output_idx += 1\n",
        "\n",
        "\n",
        "generate_csv()    "
      ],
      "metadata": {
        "id": "up3aaQ2HWz2H"
      },
      "execution_count": null,
      "outputs": []
    },
    {
      "cell_type": "code",
      "source": [
        "submission = pd.read_csv('/kaggle/working/submission.csv', encoding='utf8')\n",
        "submission"
      ],
      "metadata": {
        "id": "QSDbH0J9XBVK"
      },
      "execution_count": null,
      "outputs": []
    }
  ],
  "metadata": {
    "kernelspec": {
      "display_name": "Python 3",
      "language": "python",
      "name": "python3"
    },
    "language_info": {
      "codemirror_mode": {
        "name": "ipython",
        "version": 3
      },
      "file_extension": ".py",
      "mimetype": "text/x-python",
      "name": "python",
      "nbconvert_exporter": "python",
      "pygments_lexer": "ipython3",
      "version": "3.6.9"
    },
    "latex_envs": {
      "LaTeX_envs_menu_present": true,
      "autoclose": false,
      "autocomplete": true,
      "bibliofile": "biblio.bib",
      "cite_by": "apalike",
      "current_citInitial": 1,
      "eqLabelWithNumbers": true,
      "eqNumInitial": 1,
      "hotkeys": {
        "equation": "Ctrl-E",
        "itemize": "Ctrl-I"
      },
      "labels_anchors": false,
      "latex_user_defs": false,
      "report_style_numbering": false,
      "user_envs_cfg": false
    },
    "toc": {
      "base_numbering": 1,
      "nav_menu": {},
      "number_sections": true,
      "sideBar": true,
      "skip_h1_title": false,
      "title_cell": "Table of Contents",
      "title_sidebar": "Contents",
      "toc_cell": false,
      "toc_position": {},
      "toc_section_display": true,
      "toc_window_display": true
    },
    "colab": {
      "provenance": [],
      "collapsed_sections": [
        "XUC-cM6Hm4D_",
        "dQSt8lg9oKmc",
        "Vp_ymE18oKmp",
        "jXfiz--1oKmq",
        "flQ-NqopoKmr",
        "paBlGnljoKmr",
        "ow0T2B-r15XQ",
        "4dSyeQXEhbOP",
        "fgD9LCD1kNMW"
      ],
      "gpuType": "T4",
      "include_colab_link": true
    },
    "accelerator": "GPU",
    "gpuClass": "standard"
  },
  "nbformat": 4,
  "nbformat_minor": 0
}